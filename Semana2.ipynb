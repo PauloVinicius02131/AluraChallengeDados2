{
 "cells": [
  {
   "cell_type": "code",
   "execution_count": null,
   "metadata": {},
   "outputs": [],
   "source": [
    "import pyspark\n",
    "from pyspark.sql import SparkSession\n",
    "\n",
    "#Create SparkSession\n",
    "spark = SparkSession.builder \\\n",
    "    .master(\"local[*]\") \\\n",
    "    .appName(\"Init\") \\\n",
    "    .getOrCreate()\n"
   ]
  },
  {
   "cell_type": "code",
   "execution_count": null,
   "metadata": {},
   "outputs": [],
   "source": [
    "dados = spark.read.csv(\"dados/dataset_limpo.csv\", header=True, inferSchema=True)\n"
   ]
  },
  {
   "cell_type": "code",
   "execution_count": null,
   "metadata": {},
   "outputs": [],
   "source": [
    "dados.limit(5).toPandas()"
   ]
  },
  {
   "cell_type": "code",
   "execution_count": null,
   "metadata": {},
   "outputs": [],
   "source": [
    "dicionario = [\"tipo_anuncio\", \"tipo_unidade\", \"tipo_uso\"]\n",
    "\n",
    "for item in dicionario:\n",
    "    dados.groupBy(item).count().show()\n"
   ]
  },
  {
   "cell_type": "code",
   "execution_count": null,
   "metadata": {},
   "outputs": [],
   "source": [
    "from pyspark.sql import functions as f\n",
    "\n",
    "dados_sem_nulos = dados\\\n",
    "    .select('area_util','area_total')\\\n",
    "    .na.drop()\n",
    "\n",
    "\n",
    "quantidade_total = dados_sem_nulos.count()\n",
    "quantidade_iguais = dados_sem_nulos.filter(f.col('area_util') == f.col('area_total')).count()\n",
    "quantidade_distintas = quantidade_total - quantidade_iguais\n",
    "\n",
    "print(f\"Quantidade de linhas: {quantidade_total}\")\n",
    "print(f\"Quantidade de linhas com area_util == area_total: {quantidade_iguais}\")\n",
    "print(f\"Quantidade de linhas diferentes: {quantidade_distintas}\")\n"
   ]
  },
  {
   "cell_type": "code",
   "execution_count": null,
   "metadata": {},
   "outputs": [],
   "source": [
    "dados = dados.drop(\"area_total\",\"tipo_anuncio\", \"tipo_unidade\", \"tipo_uso\")"
   ]
  },
  {
   "cell_type": "code",
   "execution_count": null,
   "metadata": {},
   "outputs": [],
   "source": [
    "dados.toPandas().head(19)"
   ]
  },
  {
   "cell_type": "code",
   "execution_count": null,
   "metadata": {},
   "outputs": [],
   "source": [
    "from pyspark.sql.types import IntegerType, DoubleType\n",
    "\n",
    "dicionario = [\"andar\", \"banheiros\",\"quartos\", \"suites\",\"vaga\"]\n",
    "\n",
    "for item in dicionario:\n",
    "    dados = dados.withColumn(item, dados[item][0].cast(\"int\"))\n"
   ]
  },
  {
   "cell_type": "code",
   "execution_count": null,
   "metadata": {},
   "outputs": [],
   "source": [
    "dados.printSchema()"
   ]
  },
  {
   "cell_type": "code",
   "execution_count": null,
   "metadata": {},
   "outputs": [],
   "source": []
  }
 ],
 "metadata": {
  "kernelspec": {
   "display_name": "Python 3",
   "language": "python",
   "name": "python3"
  },
  "language_info": {
   "codemirror_mode": {
    "name": "ipython",
    "version": 3
   },
   "file_extension": ".py",
   "mimetype": "text/x-python",
   "name": "python",
   "nbconvert_exporter": "python",
   "pygments_lexer": "ipython3",
   "version": "3.10.7 (tags/v3.10.7:6cc6b13, Sep  5 2022, 14:08:36) [MSC v.1933 64 bit (AMD64)]"
  },
  "orig_nbformat": 4,
  "vscode": {
   "interpreter": {
    "hash": "f42f955e7f8da3c548e302e1e5347a7e875359e0d4da102c4592ccaca30f562a"
   }
  }
 },
 "nbformat": 4,
 "nbformat_minor": 2
}
