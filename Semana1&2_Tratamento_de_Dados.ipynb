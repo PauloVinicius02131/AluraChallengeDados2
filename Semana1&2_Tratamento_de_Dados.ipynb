{
 "cells": [
  {
   "attachments": {},
   "cell_type": "markdown",
   "metadata": {},
   "source": [
    "Explorar a base de dados utilizando recursos do PySpark."
   ]
  },
  {
   "cell_type": "code",
   "execution_count": 1,
   "metadata": {},
   "outputs": [],
   "source": [
    "import os\n",
    "import sys\n",
    "\n",
    "os.environ['SPARK_HOME'] = 'C:\\spark'\n",
    "os.environ['HADOOP_HOME'] = 'C:\\spark\\hadoop'\n",
    "os.environ['PYSPARK_PYTHON'] = sys.executable\n",
    "os.environ['PYSPARK_DRIVER_PYTHON'] = sys.executable\n"
   ]
  },
  {
   "cell_type": "code",
   "execution_count": 2,
   "metadata": {},
   "outputs": [],
   "source": [
    "import pyspark\n",
    "from pyspark.sql import SparkSession\n",
    "\n",
    "spark = SparkSession.builder \\\n",
    "    .master(\"local[*]\") \\\n",
    "    .appName(\"InghtPlaces_Anuncios\") \\\n",
    "    .getOrCreate()\n",
    "    \n",
    "dados = spark.read.json(\"dados/dataset_bruto.json\")\n"
   ]
  },
  {
   "cell_type": "code",
   "execution_count": 3,
   "metadata": {},
   "outputs": [
    {
     "name": "stdout",
     "output_type": "stream",
     "text": [
      "Linhas: 89083 | Colunas: 3\n",
      "--------------------------------------------------\n"
     ]
    }
   ],
   "source": [
    "print(f'Linhas: {dados.count()} | Colunas: {len(dados.columns)}')\n",
    "print('-'*50)\n",
    "# print(dados.printSchema())"
   ]
  },
  {
   "cell_type": "code",
   "execution_count": 4,
   "metadata": {},
   "outputs": [
    {
     "name": "stdout",
     "output_type": "stream",
     "text": [
      "root\n",
      " |-- andar: long (nullable = true)\n",
      " |-- area_total: array (nullable = true)\n",
      " |    |-- element: string (containsNull = true)\n",
      " |-- area_util: array (nullable = true)\n",
      " |    |-- element: string (containsNull = true)\n",
      " |-- banheiros: array (nullable = true)\n",
      " |    |-- element: long (containsNull = true)\n",
      " |-- caracteristicas: array (nullable = true)\n",
      " |    |-- element: string (containsNull = true)\n",
      " |-- endereco: struct (nullable = true)\n",
      " |    |-- bairro: string (nullable = true)\n",
      " |    |-- cep: string (nullable = true)\n",
      " |    |-- cidade: string (nullable = true)\n",
      " |    |-- estado: string (nullable = true)\n",
      " |    |-- latitude: double (nullable = true)\n",
      " |    |-- longitude: double (nullable = true)\n",
      " |    |-- pais: string (nullable = true)\n",
      " |    |-- rua: string (nullable = true)\n",
      " |    |-- zona: string (nullable = true)\n",
      " |-- id: string (nullable = true)\n",
      " |-- quartos: array (nullable = true)\n",
      " |    |-- element: long (containsNull = true)\n",
      " |-- suites: array (nullable = true)\n",
      " |    |-- element: long (containsNull = true)\n",
      " |-- tipo_anuncio: string (nullable = true)\n",
      " |-- tipo_unidade: string (nullable = true)\n",
      " |-- tipo_uso: string (nullable = true)\n",
      " |-- vaga: array (nullable = true)\n",
      " |    |-- element: long (containsNull = true)\n",
      " |-- valores: array (nullable = true)\n",
      " |    |-- element: struct (containsNull = true)\n",
      " |    |    |-- condominio: string (nullable = true)\n",
      " |    |    |-- iptu: string (nullable = true)\n",
      " |    |    |-- tipo: string (nullable = true)\n",
      " |    |    |-- valor: string (nullable = true)\n",
      "\n"
     ]
    }
   ],
   "source": [
    "# Para nossa análise, apenas as informações do campo \"anuncio\" serão relevantes. \n",
    "# Por isso, vamos focar em analisar as colunas desse campo.\n",
    "\n",
    "dados = dados.select('anuncio.*')\n",
    "# dados.printSchema()"
   ]
  },
  {
   "cell_type": "code",
   "execution_count": 5,
   "metadata": {},
   "outputs": [
    {
     "name": "stdout",
     "output_type": "stream",
     "text": [
      "+-----------+------------+------------+-----+\n",
      "|   tipo_uso|tipo_unidade|tipo_anuncio|count|\n",
      "+-----------+------------+------------+-----+\n",
      "|Residencial|      Outros|       Usado| 7502|\n",
      "|Residencial| Apartamento|  Lançamento|  235|\n",
      "|Residencial| Apartamento|       Usado|66562|\n",
      "|  Comercial| Apartamento|       Usado|    4|\n",
      "|  Comercial|      Outros|  Lançamento|    3|\n",
      "|  Comercial|      Outros|       Usado| 4443|\n",
      "|  Comercial|        Casa|       Usado|   92|\n",
      "|Residencial|        Casa|  Lançamento|    3|\n",
      "|Residencial|      Outros|  Lançamento|   15|\n",
      "|Residencial|        Casa|       Usado|10224|\n",
      "+-----------+------------+------------+-----+\n",
      "\n"
     ]
    }
   ],
   "source": [
    "# O time de Data Science solicitou que fizéssemos alguns filtros nas colunas \n",
    "# tipo_uso, tipo_unidade e tipo_anuncio da nossa base de dados:\n",
    "\n",
    "# tipo_uso: Residencial;\n",
    "# tipo_unidade: Apartamento;\n",
    "# tipo_anuncio: Usado.\n",
    "\n",
    "# Para entender o impacto que esses filtros terão sob a nossa base de dados, \n",
    "# crie uma tabela de frequências para cada uma dessas colunas antes de filtrá-las.\n",
    "\n",
    "dados.groupBy(['tipo_uso','tipo_unidade','tipo_anuncio']).count().show()\n"
   ]
  },
  {
   "cell_type": "code",
   "execution_count": 7,
   "metadata": {},
   "outputs": [
    {
     "data": {
      "text/plain": [
       "74.7190822042365"
      ]
     },
     "execution_count": 7,
     "metadata": {},
     "output_type": "execute_result"
    }
   ],
   "source": [
    "# 66562 a variavel alvo solicitada pelo time de Data Science.\n",
    "(dados.count() / 89083) * 100"
   ]
  },
  {
   "attachments": {},
   "cell_type": "markdown",
   "metadata": {},
   "source": [
    "Realizando filtros para selecionar apenas os dados que serão utilizados."
   ]
  },
  {
   "cell_type": "code",
   "execution_count": 8,
   "metadata": {},
   "outputs": [
    {
     "data": {
      "text/plain": [
       "66562"
      ]
     },
     "execution_count": 8,
     "metadata": {},
     "output_type": "execute_result"
    }
   ],
   "source": [
    "# 74.8% dos dados serão utilizados para a análise.\n",
    "\n",
    "dados = dados.filter(dados.tipo_uso == 'Residencial') \\\n",
    "    .filter(dados.tipo_unidade == 'Apartamento') \\\n",
    "    .filter(dados.tipo_anuncio == 'Usado')\n",
    "dados.count()"
   ]
  },
  {
   "attachments": {},
   "cell_type": "markdown",
   "metadata": {},
   "source": [
    "Remoção de Arrays as transformando em tipo Inteiro."
   ]
  },
  {
   "cell_type": "code",
   "execution_count": 9,
   "metadata": {},
   "outputs": [],
   "source": [
    "#Nesse contexto, vamos transformar os dados das colunas:\n",
    "\n",
    "# \"quartos\",     |-- quartos: array (nullable = true)\n",
    "#                | | -- element: long(containsNull=true)\n",
    "# \"suites\",      |-- suites: array (nullable = true)\n",
    "#                | | -- element: long(containsNull=true)\n",
    "# \"banheiros\",   |-- banheiros: array (nullable = true)\n",
    "#                | | -- element: long(containsNull=true)\n",
    "# \"vaga\",        |-- vaga: array (nullable = true)\n",
    "#                | | -- element: long(containsNull=true)\n",
    "# \"area_total\",  |-- area_total: array (nullable = true)\n",
    "#                | | -- element: string(containsNull=true)\n",
    "# \"area_util\",   |-- area_util: array (nullable = true)\n",
    "#                | | -- element: string(containsNull=true)\n",
    "\n",
    "from pyspark.sql.types import IntegerType\n",
    "from pyspark.sql import functions as f\n",
    "\n",
    "dicionario = ['quartos', 'suites', 'banheiros', 'vaga', 'area_total', 'area_util']\n",
    "\n",
    "for item in dicionario:\n",
    "    dados = dados.withColumn(item, dados[item][0].cast(\"int\"))"
   ]
  },
  {
   "attachments": {},
   "cell_type": "markdown",
   "metadata": {},
   "source": [
    "Tratamento de informações sobre localização."
   ]
  },
  {
   "cell_type": "code",
   "execution_count": 10,
   "metadata": {},
   "outputs": [],
   "source": [
    "# A coluna de endereço possui as informações de bairro e zona que devem ser extraídas para o dataset final.\n",
    "\n",
    "dicionario = ['bairro', 'zona']\n",
    "\n",
    "for item in dicionario:\n",
    "    dados = dados.withColumn(item, dados['endereco'][item])\n"
   ]
  },
  {
   "attachments": {},
   "cell_type": "markdown",
   "metadata": {},
   "source": [
    "Transformar cada campo da coluna \"valores\" em uma coluna separada."
   ]
  },
  {
   "cell_type": "code",
   "execution_count": 11,
   "metadata": {},
   "outputs": [],
   "source": [
    "# Nesse contexto, transforme os dados da coluna valores em colunas separadas.\n",
    "\n",
    "# |-- valores: array(nullable=true)\n",
    "# | | -- element: struct(containsNull=true)\n",
    "# | | |-- condominio: string(nullable=true)\n",
    "# | | |-- iptu: string(nullable=true)\n",
    "# | | |-- tipo: string(nullable=true)\n",
    "# | | |-- valor: string(nullable=true)\n",
    "\n",
    "dicionario = ['condominio', 'iptu', 'tipo', 'valor']\n",
    "\n",
    "for item in dicionario:\n",
    "    dados = dados.withColumn(item, dados['valores'][0][item])"
   ]
  },
  {
   "cell_type": "code",
   "execution_count": 12,
   "metadata": {},
   "outputs": [],
   "source": [
    "#Como se trata de um estudo sobre o preço de venda dos imóveis, o time de cientistas de dados solicitou apenas as informações do tipo VENDA.\n",
    "dados = dados.filter(dados.tipo == 'Venda')\n"
   ]
  },
  {
   "cell_type": "code",
   "execution_count": 13,
   "metadata": {},
   "outputs": [],
   "source": [
    "#Remover colunas desnecessárias : Endereço, Valores e Tipo.\n",
    "dados = dados.drop('endereco', 'valores',\n",
    "                   'tipo', 'tipo_anuncio', 'tipo_unidade', 'tipo_uso', 'area_total')\n"
   ]
  },
  {
   "attachments": {},
   "cell_type": "markdown",
   "metadata": {},
   "source": [
    "Inicio Semana 2 - Tratamento de dados para o modelo ML."
   ]
  },
  {
   "cell_type": "code",
   "execution_count": 14,
   "metadata": {},
   "outputs": [],
   "source": [
    "# Converter os tipos das colunas\n",
    "\n",
    "#Podemos converter o tipo de colunas numéricas, como \"andar\", \"banheiros\", \"suites\" e \"quartos\" para o tipo inteiro. \n",
    "# Além disso também pode ser necessário converter as colunas \"area_util\", \"condominio\", \"iptu\" e \"valor\" para o tipo double.\n",
    "\n",
    "inteiros = ['andar', 'banheiros', 'suites', 'quartos']\n",
    "doubles = ['area_util', 'condominio', 'iptu', 'valor']\n",
    "\n",
    "for item in inteiros:\n",
    "    dados = dados.withColumn(item, dados[item].cast('int'))\n",
    "\n",
    "for item in doubles:\n",
    "    dados = dados.withColumn(item, dados[item].cast('double'))\n"
   ]
  },
  {
   "cell_type": "code",
   "execution_count": 15,
   "metadata": {},
   "outputs": [
    {
     "name": "stdout",
     "output_type": "stream",
     "text": [
      "['Condomínio fechado', 'Playground', 'Portão eletrônico', 'Piscina', 'Animais permitidos', 'Portaria 24h', 'Elevador', 'Academia', 'Salão de festas', 'Churrasqueira']\n"
     ]
    }
   ],
   "source": [
    "#coletar apenas o texto dentro da coluna caracteristicas\n",
    "lista = dados.select(f.explode(\"caracteristicas\")).distinct().collect()\n",
    "lista = [item[0] for item in lista]\n",
    "print(lista)"
   ]
  },
  {
   "cell_type": "code",
   "execution_count": 16,
   "metadata": {},
   "outputs": [],
   "source": [
    "# se a coluna caracteristicas do dataframe contiver um item da lista, criar uma nova coluna com valor 1 e 0 caso contrário.\n",
    "import unidecode\n",
    "from unidecode import unidecode\n",
    "from pyspark.sql.functions import array_contains\n",
    "\n",
    "for item in lista:\n",
    "  dados = dados.withColumn(unidecode(item.replace(' ', '_').lower()), array_contains(\n",
    "      'caracteristicas', item).cast('integer'))\n"
   ]
  },
  {
   "cell_type": "code",
   "execution_count": 17,
   "metadata": {},
   "outputs": [],
   "source": [
    "dados = dados.drop('caracteristicas')"
   ]
  },
  {
   "cell_type": "code",
   "execution_count": 18,
   "metadata": {},
   "outputs": [],
   "source": [
    "dados = dados\\\n",
    "    .where(f.col('zona') != '')"
   ]
  },
  {
   "cell_type": "code",
   "execution_count": 19,
   "metadata": {},
   "outputs": [
    {
     "name": "stdout",
     "output_type": "stream",
     "text": [
      "['Zona Norte', 'Zona Oeste', 'Zona Central', 'Zona Sul']\n"
     ]
    }
   ],
   "source": [
    "lista_2 = dados.select('zona').distinct().collect()\n",
    "lista_2 = [item[0] for item in lista_2]\n",
    "print(lista_2)\n"
   ]
  },
  {
   "cell_type": "code",
   "execution_count": 20,
   "metadata": {},
   "outputs": [],
   "source": [
    "for i in lista_2:\n",
    "    dados = dados.withColumn(i, f.when(f.col('zona') == i, 1).otherwise(0))"
   ]
  },
  {
   "cell_type": "code",
   "execution_count": 21,
   "metadata": {},
   "outputs": [],
   "source": [
    "dados = dados.drop('zona','bairro')"
   ]
  },
  {
   "attachments": {},
   "cell_type": "markdown",
   "metadata": {},
   "source": [
    "Tratando dados Nulos"
   ]
  },
  {
   "cell_type": "code",
   "execution_count": 22,
   "metadata": {},
   "outputs": [
    {
     "data": {
      "text/html": [
       "<div>\n",
       "<style scoped>\n",
       "    .dataframe tbody tr th:only-of-type {\n",
       "        vertical-align: middle;\n",
       "    }\n",
       "\n",
       "    .dataframe tbody tr th {\n",
       "        vertical-align: top;\n",
       "    }\n",
       "\n",
       "    .dataframe thead th {\n",
       "        text-align: right;\n",
       "    }\n",
       "</style>\n",
       "<table border=\"1\" class=\"dataframe\">\n",
       "  <thead>\n",
       "    <tr style=\"text-align: right;\">\n",
       "      <th></th>\n",
       "      <th>0</th>\n",
       "    </tr>\n",
       "  </thead>\n",
       "  <tbody>\n",
       "    <tr>\n",
       "      <th>andar</th>\n",
       "      <td>0</td>\n",
       "    </tr>\n",
       "    <tr>\n",
       "      <th>area_util</th>\n",
       "      <td>0</td>\n",
       "    </tr>\n",
       "    <tr>\n",
       "      <th>banheiros</th>\n",
       "      <td>0</td>\n",
       "    </tr>\n",
       "    <tr>\n",
       "      <th>id</th>\n",
       "      <td>0</td>\n",
       "    </tr>\n",
       "    <tr>\n",
       "      <th>quartos</th>\n",
       "      <td>0</td>\n",
       "    </tr>\n",
       "    <tr>\n",
       "      <th>suites</th>\n",
       "      <td>5541</td>\n",
       "    </tr>\n",
       "    <tr>\n",
       "      <th>vaga</th>\n",
       "      <td>3004</td>\n",
       "    </tr>\n",
       "    <tr>\n",
       "      <th>condominio</th>\n",
       "      <td>2347</td>\n",
       "    </tr>\n",
       "    <tr>\n",
       "      <th>iptu</th>\n",
       "      <td>7152</td>\n",
       "    </tr>\n",
       "    <tr>\n",
       "      <th>valor</th>\n",
       "      <td>0</td>\n",
       "    </tr>\n",
       "    <tr>\n",
       "      <th>condominio_fechado</th>\n",
       "      <td>0</td>\n",
       "    </tr>\n",
       "    <tr>\n",
       "      <th>playground</th>\n",
       "      <td>0</td>\n",
       "    </tr>\n",
       "    <tr>\n",
       "      <th>portao_eletronico</th>\n",
       "      <td>0</td>\n",
       "    </tr>\n",
       "    <tr>\n",
       "      <th>piscina</th>\n",
       "      <td>0</td>\n",
       "    </tr>\n",
       "    <tr>\n",
       "      <th>animais_permitidos</th>\n",
       "      <td>0</td>\n",
       "    </tr>\n",
       "    <tr>\n",
       "      <th>portaria_24h</th>\n",
       "      <td>0</td>\n",
       "    </tr>\n",
       "    <tr>\n",
       "      <th>elevador</th>\n",
       "      <td>0</td>\n",
       "    </tr>\n",
       "    <tr>\n",
       "      <th>academia</th>\n",
       "      <td>0</td>\n",
       "    </tr>\n",
       "    <tr>\n",
       "      <th>salao_de_festas</th>\n",
       "      <td>0</td>\n",
       "    </tr>\n",
       "    <tr>\n",
       "      <th>churrasqueira</th>\n",
       "      <td>0</td>\n",
       "    </tr>\n",
       "    <tr>\n",
       "      <th>Zona Norte</th>\n",
       "      <td>0</td>\n",
       "    </tr>\n",
       "    <tr>\n",
       "      <th>Zona Oeste</th>\n",
       "      <td>0</td>\n",
       "    </tr>\n",
       "    <tr>\n",
       "      <th>Zona Central</th>\n",
       "      <td>0</td>\n",
       "    </tr>\n",
       "    <tr>\n",
       "      <th>Zona Sul</th>\n",
       "      <td>0</td>\n",
       "    </tr>\n",
       "  </tbody>\n",
       "</table>\n",
       "</div>"
      ],
      "text/plain": [
       "                       0\n",
       "andar                  0\n",
       "area_util              0\n",
       "banheiros              0\n",
       "id                     0\n",
       "quartos                0\n",
       "suites              5541\n",
       "vaga                3004\n",
       "condominio          2347\n",
       "iptu                7152\n",
       "valor                  0\n",
       "condominio_fechado     0\n",
       "playground             0\n",
       "portao_eletronico      0\n",
       "piscina                0\n",
       "animais_permitidos     0\n",
       "portaria_24h           0\n",
       "elevador               0\n",
       "academia               0\n",
       "salao_de_festas        0\n",
       "churrasqueira          0\n",
       "Zona Norte             0\n",
       "Zona Oeste             0\n",
       "Zona Central           0\n",
       "Zona Sul               0"
      ]
     },
     "execution_count": 22,
     "metadata": {},
     "output_type": "execute_result"
    }
   ],
   "source": [
    "\n",
    "dados.select([f.count(f.when(dados[c].isNull(), True)).alias(c) for c in dados.columns]).toPandas().T\n"
   ]
  },
  {
   "cell_type": "code",
   "execution_count": 23,
   "metadata": {},
   "outputs": [],
   "source": [
    "dados = dados\\\n",
    "    .select('*')\\\n",
    "    .na\\\n",
    "    .fill(0)\n"
   ]
  },
  {
   "cell_type": "code",
   "execution_count": 25,
   "metadata": {},
   "outputs": [],
   "source": [
    "dados.write.parquet('DADOS/dataset_preparado',mode='overwrite')"
   ]
  }
 ],
 "metadata": {
  "kernelspec": {
   "display_name": "Python 3",
   "language": "python",
   "name": "python3"
  },
  "language_info": {
   "codemirror_mode": {
    "name": "ipython",
    "version": 3
   },
   "file_extension": ".py",
   "mimetype": "text/x-python",
   "name": "python",
   "nbconvert_exporter": "python",
   "pygments_lexer": "ipython3",
   "version": "3.10.7 (tags/v3.10.7:6cc6b13, Sep  5 2022, 14:08:36) [MSC v.1933 64 bit (AMD64)]"
  },
  "orig_nbformat": 4,
  "vscode": {
   "interpreter": {
    "hash": "f42f955e7f8da3c548e302e1e5347a7e875359e0d4da102c4592ccaca30f562a"
   }
  }
 },
 "nbformat": 4,
 "nbformat_minor": 2
}
