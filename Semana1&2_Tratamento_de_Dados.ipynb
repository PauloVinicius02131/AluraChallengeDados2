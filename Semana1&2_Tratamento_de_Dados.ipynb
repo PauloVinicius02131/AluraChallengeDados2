{
 "cells": [
  {
   "attachments": {},
   "cell_type": "markdown",
   "metadata": {},
   "source": [
    "Explorar a base de dados utilizando recursos do PySpark."
   ]
  },
  {
   "cell_type": "code",
   "execution_count": 2,
   "metadata": {},
   "outputs": [],
   "source": [
    "import pyspark\n",
    "from pyspark.sql import SparkSession\n",
    "\n",
    "spark = SparkSession.builder \\\n",
    "    .master(\"local[*]\") \\\n",
    "    .appName(\"InghtPlaces_Anuncios\") \\\n",
    "    .getOrCreate()\n",
    "    \n",
    "dados = spark.read.json(\"dados/dataset_bruto.json\")\n"
   ]
  },
  {
   "cell_type": "code",
   "execution_count": 3,
   "metadata": {},
   "outputs": [
    {
     "name": "stdout",
     "output_type": "stream",
     "text": [
      "Linhas: 89083 | Colunas: 3\n",
      "--------------------------------------------------\n"
     ]
    }
   ],
   "source": [
    "print(f'Linhas: {dados.count()} | Colunas: {len(dados.columns)}')\n",
    "print('-'*50)\n",
    "# print(dados.printSchema())"
   ]
  },
  {
   "cell_type": "code",
   "execution_count": 4,
   "metadata": {},
   "outputs": [
    {
     "name": "stdout",
     "output_type": "stream",
     "text": [
      "root\n",
      " |-- andar: long (nullable = true)\n",
      " |-- area_total: array (nullable = true)\n",
      " |    |-- element: string (containsNull = true)\n",
      " |-- area_util: array (nullable = true)\n",
      " |    |-- element: string (containsNull = true)\n",
      " |-- banheiros: array (nullable = true)\n",
      " |    |-- element: long (containsNull = true)\n",
      " |-- caracteristicas: array (nullable = true)\n",
      " |    |-- element: string (containsNull = true)\n",
      " |-- endereco: struct (nullable = true)\n",
      " |    |-- bairro: string (nullable = true)\n",
      " |    |-- cep: string (nullable = true)\n",
      " |    |-- cidade: string (nullable = true)\n",
      " |    |-- estado: string (nullable = true)\n",
      " |    |-- latitude: double (nullable = true)\n",
      " |    |-- longitude: double (nullable = true)\n",
      " |    |-- pais: string (nullable = true)\n",
      " |    |-- rua: string (nullable = true)\n",
      " |    |-- zona: string (nullable = true)\n",
      " |-- id: string (nullable = true)\n",
      " |-- quartos: array (nullable = true)\n",
      " |    |-- element: long (containsNull = true)\n",
      " |-- suites: array (nullable = true)\n",
      " |    |-- element: long (containsNull = true)\n",
      " |-- tipo_anuncio: string (nullable = true)\n",
      " |-- tipo_unidade: string (nullable = true)\n",
      " |-- tipo_uso: string (nullable = true)\n",
      " |-- vaga: array (nullable = true)\n",
      " |    |-- element: long (containsNull = true)\n",
      " |-- valores: array (nullable = true)\n",
      " |    |-- element: struct (containsNull = true)\n",
      " |    |    |-- condominio: string (nullable = true)\n",
      " |    |    |-- iptu: string (nullable = true)\n",
      " |    |    |-- tipo: string (nullable = true)\n",
      " |    |    |-- valor: string (nullable = true)\n",
      "\n"
     ]
    }
   ],
   "source": [
    "# Para nossa análise, apenas as informações do campo \"anuncio\" serão relevantes. \n",
    "# Por isso, vamos focar em analisar as colunas desse campo.\n",
    "\n",
    "dados = dados.select('anuncio.*')\n",
    "\n",
    "dados.printSchema()"
   ]
  },
  {
   "cell_type": "code",
   "execution_count": 5,
   "metadata": {},
   "outputs": [
    {
     "name": "stdout",
     "output_type": "stream",
     "text": [
      "+-----------+------------+------------+-----+\n",
      "|   tipo_uso|tipo_unidade|tipo_anuncio|count|\n",
      "+-----------+------------+------------+-----+\n",
      "|Residencial|      Outros|       Usado| 7502|\n",
      "|Residencial| Apartamento|  Lançamento|  235|\n",
      "|Residencial| Apartamento|       Usado|66562|\n",
      "|  Comercial| Apartamento|       Usado|    4|\n",
      "|  Comercial|      Outros|  Lançamento|    3|\n",
      "|  Comercial|      Outros|       Usado| 4443|\n",
      "|  Comercial|        Casa|       Usado|   92|\n",
      "|Residencial|        Casa|  Lançamento|    3|\n",
      "|Residencial|      Outros|  Lançamento|   15|\n",
      "|Residencial|        Casa|       Usado|10224|\n",
      "+-----------+------------+------------+-----+\n",
      "\n"
     ]
    }
   ],
   "source": [
    "# O time de Data Science solicitou que fizéssemos alguns filtros nas colunas \n",
    "# tipo_uso, tipo_unidade e tipo_anuncio da nossa base de dados:\n",
    "\n",
    "# tipo_uso: Residencial;\n",
    "# tipo_unidade: Apartamento;\n",
    "# tipo_anuncio: Usado.\n",
    "\n",
    "# Para entender o impacto que esses filtros terão sob a nossa base de dados, \n",
    "# crie uma tabela de frequências para cada uma dessas colunas antes de filtrá-las.\n",
    "\n",
    "dados.groupBy(['tipo_uso','tipo_unidade','tipo_anuncio']).count().show()\n"
   ]
  },
  {
   "cell_type": "code",
   "execution_count": 6,
   "metadata": {},
   "outputs": [
    {
     "data": {
      "text/plain": [
       "89083"
      ]
     },
     "execution_count": 6,
     "metadata": {},
     "output_type": "execute_result"
    }
   ],
   "source": [
    "dados.count()"
   ]
  },
  {
   "cell_type": "code",
   "execution_count": 7,
   "metadata": {},
   "outputs": [
    {
     "data": {
      "text/plain": [
       "74.7190822042365"
      ]
     },
     "execution_count": 7,
     "metadata": {},
     "output_type": "execute_result"
    }
   ],
   "source": [
    "# 66562 a variavel alvo solicitada pelo time de Data Science.\n",
    "\n",
    "( 66562 / 89083 ) * 100\n"
   ]
  },
  {
   "attachments": {},
   "cell_type": "markdown",
   "metadata": {},
   "source": [
    "Realizando filtros para selecionar apenas os dados que serão utilizados."
   ]
  },
  {
   "cell_type": "code",
   "execution_count": 8,
   "metadata": {},
   "outputs": [
    {
     "data": {
      "text/plain": [
       "66562"
      ]
     },
     "execution_count": 8,
     "metadata": {},
     "output_type": "execute_result"
    }
   ],
   "source": [
    "# 74.8% dos dados serão utilizados para a análise.\n",
    "\n",
    "dados = dados.filter(dados.tipo_uso == 'Residencial') \\\n",
    "    .filter(dados.tipo_unidade == 'Apartamento') \\\n",
    "    .filter(dados.tipo_anuncio == 'Usado')\n",
    "    \n",
    "dados.count()"
   ]
  },
  {
   "attachments": {},
   "cell_type": "markdown",
   "metadata": {},
   "source": [
    "Remoção de Arrays as transformando em tipo Inteiro."
   ]
  },
  {
   "cell_type": "code",
   "execution_count": 9,
   "metadata": {},
   "outputs": [],
   "source": [
    "#Nesse contexto, vamos transformar os dados das colunas:\n",
    "\n",
    "# \"quartos\",     |-- quartos: array (nullable = true)\n",
    "#                | | -- element: long(containsNull=true)\n",
    "# \"suites\",      |-- suites: array (nullable = true)\n",
    "#                | | -- element: long(containsNull=true)\n",
    "# \"banheiros\",   |-- banheiros: array (nullable = true)\n",
    "#                | | -- element: long(containsNull=true)\n",
    "# \"vaga\",        |-- vaga: array (nullable = true)\n",
    "#                | | -- element: long(containsNull=true)\n",
    "# \"area_total\",  |-- area_total: array (nullable = true)\n",
    "#                | | -- element: string(containsNull=true)\n",
    "# \"area_util\",   |-- area_util: array (nullable = true)\n",
    "#                | | -- element: string(containsNull=true)\n",
    "\n",
    "from pyspark.sql.types import IntegerType\n",
    "from pyspark.sql import functions as f\n",
    "\n",
    "dicionario = ['quartos', 'suites', 'banheiros', 'vaga', 'area_total', 'area_util']\n",
    "\n",
    "for item in dicionario:\n",
    "    dados = dados.withColumn(item, dados[item][0].cast(\"int\"))\n"
   ]
  },
  {
   "attachments": {},
   "cell_type": "markdown",
   "metadata": {},
   "source": [
    "Tratamento de informações sobre localização."
   ]
  },
  {
   "cell_type": "code",
   "execution_count": 10,
   "metadata": {},
   "outputs": [],
   "source": [
    "# A coluna de endereço possui as informações de bairro e zona que devem ser extraídas para o dataset final.\n",
    "\n",
    "dicionario = ['bairro', 'zona']\n",
    "\n",
    "for item in dicionario:\n",
    "    dados = dados.withColumn(item, dados['endereco'][item])\n"
   ]
  },
  {
   "attachments": {},
   "cell_type": "markdown",
   "metadata": {},
   "source": [
    "Transformar cada campo da coluna \"valores\" em uma coluna separada."
   ]
  },
  {
   "cell_type": "code",
   "execution_count": 11,
   "metadata": {},
   "outputs": [],
   "source": [
    "# Nesse contexto, transforme os dados da coluna valores em colunas separadas.\n",
    "\n",
    "# |-- valores: array(nullable=true)\n",
    "# | | -- element: struct(containsNull=true)\n",
    "# | | |-- condominio: string(nullable=true)\n",
    "# | | |-- iptu: string(nullable=true)\n",
    "# | | |-- tipo: string(nullable=true)\n",
    "# | | |-- valor: string(nullable=true)\n",
    "\n",
    "dicionario = ['condominio', 'iptu', 'tipo', 'valor']\n",
    "\n",
    "for item in dicionario:\n",
    "    dados = dados.withColumn(item, dados['valores'][0][item])"
   ]
  },
  {
   "cell_type": "code",
   "execution_count": 12,
   "metadata": {},
   "outputs": [],
   "source": [
    "#Como se trata de um estudo sobre o preço de venda dos imóveis, o time de cientistas de dados solicitou apenas as informações do tipo VENDA.\n",
    "dados = dados.filter(dados.tipo == 'Venda')\n"
   ]
  },
  {
   "cell_type": "code",
   "execution_count": 13,
   "metadata": {},
   "outputs": [],
   "source": [
    "#Remover colunas desnecessárias : Endereço, Valores e Tipo.\n",
    "\n",
    "dados = dados.drop('endereco', 'valores', 'tipo')"
   ]
  },
  {
   "cell_type": "code",
   "execution_count": 14,
   "metadata": {},
   "outputs": [
    {
     "name": "stdout",
     "output_type": "stream",
     "text": [
      "root\n",
      " |-- andar: long (nullable = true)\n",
      " |-- area_total: integer (nullable = true)\n",
      " |-- area_util: integer (nullable = true)\n",
      " |-- banheiros: integer (nullable = true)\n",
      " |-- caracteristicas: array (nullable = true)\n",
      " |    |-- element: string (containsNull = true)\n",
      " |-- id: string (nullable = true)\n",
      " |-- quartos: integer (nullable = true)\n",
      " |-- suites: integer (nullable = true)\n",
      " |-- tipo_anuncio: string (nullable = true)\n",
      " |-- tipo_unidade: string (nullable = true)\n",
      " |-- tipo_uso: string (nullable = true)\n",
      " |-- vaga: integer (nullable = true)\n",
      " |-- bairro: string (nullable = true)\n",
      " |-- zona: string (nullable = true)\n",
      " |-- condominio: string (nullable = true)\n",
      " |-- iptu: string (nullable = true)\n",
      " |-- valor: string (nullable = true)\n",
      "\n"
     ]
    }
   ],
   "source": [
    "from pyspark.sql.types import StringType\n",
    "\n",
    "dados.printSchema()\n"
   ]
  },
  {
   "cell_type": "code",
   "execution_count": 15,
   "metadata": {},
   "outputs": [],
   "source": [
    "# dados = dados.withColumn('caracteristicas', dados['caracteristicas'].cast(StringType()))\n"
   ]
  },
  {
   "attachments": {},
   "cell_type": "markdown",
   "metadata": {},
   "source": [
    "Inicio Semana 2 - Tratamento de dados para o modelo ML."
   ]
  },
  {
   "cell_type": "code",
   "execution_count": 16,
   "metadata": {},
   "outputs": [
    {
     "name": "stdout",
     "output_type": "stream",
     "text": [
      "root\n",
      " |-- andar: long (nullable = true)\n",
      " |-- area_total: integer (nullable = true)\n",
      " |-- area_util: integer (nullable = true)\n",
      " |-- banheiros: integer (nullable = true)\n",
      " |-- caracteristicas: array (nullable = true)\n",
      " |    |-- element: string (containsNull = true)\n",
      " |-- id: string (nullable = true)\n",
      " |-- quartos: integer (nullable = true)\n",
      " |-- suites: integer (nullable = true)\n",
      " |-- tipo_anuncio: string (nullable = true)\n",
      " |-- tipo_unidade: string (nullable = true)\n",
      " |-- tipo_uso: string (nullable = true)\n",
      " |-- vaga: integer (nullable = true)\n",
      " |-- bairro: string (nullable = true)\n",
      " |-- zona: string (nullable = true)\n",
      " |-- condominio: string (nullable = true)\n",
      " |-- iptu: string (nullable = true)\n",
      " |-- valor: string (nullable = true)\n",
      "\n"
     ]
    }
   ],
   "source": [
    "dados.printSchema()"
   ]
  },
  {
   "cell_type": "code",
   "execution_count": 17,
   "metadata": {},
   "outputs": [],
   "source": [
    "# Converter os tipos das colunas\n",
    "\n",
    "#Podemos converter o tipo de colunas numéricas, como \"andar\", \"banheiros\", \"suites\" e \"quartos\" para o tipo inteiro. \n",
    "# Além disso também pode ser necessário converter as colunas \"area_util\", \"condominio\", \"iptu\" e \"valor\" para o tipo double.\n",
    "\n",
    "inteiros = ['andar', 'banheiros', 'suites', 'quartos']\n",
    "doubles = ['area_util', 'condominio', 'iptu', 'valor']\n",
    "\n",
    "for item in inteiros:\n",
    "    dados = dados.withColumn(item, dados[item].cast('int'))\n",
    "\n",
    "for item in doubles:\n",
    "    dados = dados.withColumn(item, dados[item].cast('double'))\n",
    "    \n",
    "\n"
   ]
  },
  {
   "cell_type": "code",
   "execution_count": 18,
   "metadata": {},
   "outputs": [
    {
     "name": "stdout",
     "output_type": "stream",
     "text": [
      "root\n",
      " |-- andar: integer (nullable = true)\n",
      " |-- area_total: integer (nullable = true)\n",
      " |-- area_util: double (nullable = true)\n",
      " |-- banheiros: integer (nullable = true)\n",
      " |-- caracteristicas: array (nullable = true)\n",
      " |    |-- element: string (containsNull = true)\n",
      " |-- id: string (nullable = true)\n",
      " |-- quartos: integer (nullable = true)\n",
      " |-- suites: integer (nullable = true)\n",
      " |-- tipo_anuncio: string (nullable = true)\n",
      " |-- tipo_unidade: string (nullable = true)\n",
      " |-- tipo_uso: string (nullable = true)\n",
      " |-- vaga: integer (nullable = true)\n",
      " |-- bairro: string (nullable = true)\n",
      " |-- zona: string (nullable = true)\n",
      " |-- condominio: double (nullable = true)\n",
      " |-- iptu: double (nullable = true)\n",
      " |-- valor: double (nullable = true)\n",
      "\n"
     ]
    }
   ],
   "source": [
    "dados.printSchema()"
   ]
  },
  {
   "cell_type": "code",
   "execution_count": 19,
   "metadata": {},
   "outputs": [],
   "source": [
    "# A coluna caracteristicas possui listas de strings como conteúdo de suas linhas. \n",
    "# No entanto, algumas dessas listas estão sem elementos.\n",
    "# Vamos transformar essas listas sem elementos em valores nulos.\n",
    "\n",
    "# visualizando os elementos únicos das listas dessa coluna\n",
    "# dados.select(f.explode(\"caracteristicas\")).distinct().collect()\n",
    "\n",
    "# dados = dados.withColumn(\"caracteristicas\", f.when((f.size(f.col(\n",
    "#     \"caracteristicas\")) == 0), f.lit(None)).otherwise(f.col('caracteristicas')))\n",
    "\n",
    "# dados.toPandas()\n",
    "\n",
    "# from pyspark.sql.functions import udf\n",
    "\n",
    "\n",
    "# def verifica_lista_vazia(lista):\n",
    "#   if len(lista) == 0:\n",
    "\n",
    "#     return None\n",
    "#   else:\n",
    "#     return lista\n",
    "\n",
    "\n",
    "# udf_verifica_lista_vazia = udf(verifica_lista_vazia)\n",
    "\n",
    "# dados = dados.withColumn(\n",
    "#     \"caracteristicas\", udf_verifica_lista_vazia(f.col(\"caracteristicas\")))\n",
    "# 415263+\n",
    "\n"
   ]
  },
  {
   "cell_type": "code",
   "execution_count": 20,
   "metadata": {},
   "outputs": [
    {
     "data": {
      "text/html": [
       "<div>\n",
       "<style scoped>\n",
       "    .dataframe tbody tr th:only-of-type {\n",
       "        vertical-align: middle;\n",
       "    }\n",
       "\n",
       "    .dataframe tbody tr th {\n",
       "        vertical-align: top;\n",
       "    }\n",
       "\n",
       "    .dataframe thead th {\n",
       "        text-align: right;\n",
       "    }\n",
       "</style>\n",
       "<table border=\"1\" class=\"dataframe\">\n",
       "  <thead>\n",
       "    <tr style=\"text-align: right;\">\n",
       "      <th></th>\n",
       "      <th>andar</th>\n",
       "      <th>area_total</th>\n",
       "      <th>area_util</th>\n",
       "      <th>banheiros</th>\n",
       "      <th>caracteristicas</th>\n",
       "      <th>id</th>\n",
       "      <th>quartos</th>\n",
       "      <th>suites</th>\n",
       "      <th>tipo_anuncio</th>\n",
       "      <th>tipo_unidade</th>\n",
       "      <th>tipo_uso</th>\n",
       "      <th>vaga</th>\n",
       "      <th>bairro</th>\n",
       "      <th>zona</th>\n",
       "      <th>condominio</th>\n",
       "      <th>iptu</th>\n",
       "      <th>valor</th>\n",
       "    </tr>\n",
       "  </thead>\n",
       "  <tbody>\n",
       "    <tr>\n",
       "      <th>0</th>\n",
       "      <td>3</td>\n",
       "      <td>43.0</td>\n",
       "      <td>43.0</td>\n",
       "      <td>1</td>\n",
       "      <td>[Academia, Churrasqueira, Playground, Salão de...</td>\n",
       "      <td>d2e3a3aa-09b5-45a0-9dcd-918847cd3ca3</td>\n",
       "      <td>2</td>\n",
       "      <td>NaN</td>\n",
       "      <td>Usado</td>\n",
       "      <td>Apartamento</td>\n",
       "      <td>Residencial</td>\n",
       "      <td>1.0</td>\n",
       "      <td>Paciência</td>\n",
       "      <td>Zona Oeste</td>\n",
       "      <td>245.0</td>\n",
       "      <td>NaN</td>\n",
       "      <td>15000.0</td>\n",
       "    </tr>\n",
       "    <tr>\n",
       "      <th>1</th>\n",
       "      <td>2</td>\n",
       "      <td>42.0</td>\n",
       "      <td>42.0</td>\n",
       "      <td>1</td>\n",
       "      <td>[Churrasqueira, Playground, Salão de festas, C...</td>\n",
       "      <td>085bab2c-87ad-452a-bd0f-8b1451509f84</td>\n",
       "      <td>2</td>\n",
       "      <td>NaN</td>\n",
       "      <td>Usado</td>\n",
       "      <td>Apartamento</td>\n",
       "      <td>Residencial</td>\n",
       "      <td>1.0</td>\n",
       "      <td>Paciência</td>\n",
       "      <td>Zona Oeste</td>\n",
       "      <td>0.0</td>\n",
       "      <td>0.0</td>\n",
       "      <td>15000.0</td>\n",
       "    </tr>\n",
       "    <tr>\n",
       "      <th>2</th>\n",
       "      <td>1</td>\n",
       "      <td>41.0</td>\n",
       "      <td>41.0</td>\n",
       "      <td>1</td>\n",
       "      <td>[Portaria 24h, Condomínio fechado, Playground,...</td>\n",
       "      <td>18d22cbe-1b86-4764-8def-70c615f15a61</td>\n",
       "      <td>2</td>\n",
       "      <td>NaN</td>\n",
       "      <td>Usado</td>\n",
       "      <td>Apartamento</td>\n",
       "      <td>Residencial</td>\n",
       "      <td>1.0</td>\n",
       "      <td>Guaratiba</td>\n",
       "      <td>Zona Oeste</td>\n",
       "      <td>0.0</td>\n",
       "      <td>0.0</td>\n",
       "      <td>20000.0</td>\n",
       "    </tr>\n",
       "    <tr>\n",
       "      <th>3</th>\n",
       "      <td>3</td>\n",
       "      <td>43.0</td>\n",
       "      <td>43.0</td>\n",
       "      <td>1</td>\n",
       "      <td>[Churrasqueira, Piscina, Playground, Salão de ...</td>\n",
       "      <td>bed8a354-9317-4426-b27e-1c798f864271</td>\n",
       "      <td>2</td>\n",
       "      <td>NaN</td>\n",
       "      <td>Usado</td>\n",
       "      <td>Apartamento</td>\n",
       "      <td>Residencial</td>\n",
       "      <td>0.0</td>\n",
       "      <td>Cosmos</td>\n",
       "      <td>Zona Oeste</td>\n",
       "      <td>285.0</td>\n",
       "      <td>NaN</td>\n",
       "      <td>20000.0</td>\n",
       "    </tr>\n",
       "    <tr>\n",
       "      <th>4</th>\n",
       "      <td>2</td>\n",
       "      <td>43.0</td>\n",
       "      <td>43.0</td>\n",
       "      <td>1</td>\n",
       "      <td>[Academia, Churrasqueira, Playground, Salão de...</td>\n",
       "      <td>12a13315-d67f-48f0-9497-017b83252781</td>\n",
       "      <td>2</td>\n",
       "      <td>NaN</td>\n",
       "      <td>Usado</td>\n",
       "      <td>Apartamento</td>\n",
       "      <td>Residencial</td>\n",
       "      <td>1.0</td>\n",
       "      <td>Guaratiba</td>\n",
       "      <td>Zona Oeste</td>\n",
       "      <td>245.0</td>\n",
       "      <td>NaN</td>\n",
       "      <td>15000.0</td>\n",
       "    </tr>\n",
       "  </tbody>\n",
       "</table>\n",
       "</div>"
      ],
      "text/plain": [
       "   andar  area_total  area_util  banheiros  \\\n",
       "0      3        43.0       43.0          1   \n",
       "1      2        42.0       42.0          1   \n",
       "2      1        41.0       41.0          1   \n",
       "3      3        43.0       43.0          1   \n",
       "4      2        43.0       43.0          1   \n",
       "\n",
       "                                     caracteristicas  \\\n",
       "0  [Academia, Churrasqueira, Playground, Salão de...   \n",
       "1  [Churrasqueira, Playground, Salão de festas, C...   \n",
       "2  [Portaria 24h, Condomínio fechado, Playground,...   \n",
       "3  [Churrasqueira, Piscina, Playground, Salão de ...   \n",
       "4  [Academia, Churrasqueira, Playground, Salão de...   \n",
       "\n",
       "                                     id  quartos  suites tipo_anuncio  \\\n",
       "0  d2e3a3aa-09b5-45a0-9dcd-918847cd3ca3        2     NaN        Usado   \n",
       "1  085bab2c-87ad-452a-bd0f-8b1451509f84        2     NaN        Usado   \n",
       "2  18d22cbe-1b86-4764-8def-70c615f15a61        2     NaN        Usado   \n",
       "3  bed8a354-9317-4426-b27e-1c798f864271        2     NaN        Usado   \n",
       "4  12a13315-d67f-48f0-9497-017b83252781        2     NaN        Usado   \n",
       "\n",
       "  tipo_unidade     tipo_uso  vaga     bairro        zona  condominio  iptu  \\\n",
       "0  Apartamento  Residencial   1.0  Paciência  Zona Oeste       245.0   NaN   \n",
       "1  Apartamento  Residencial   1.0  Paciência  Zona Oeste         0.0   0.0   \n",
       "2  Apartamento  Residencial   1.0  Guaratiba  Zona Oeste         0.0   0.0   \n",
       "3  Apartamento  Residencial   0.0     Cosmos  Zona Oeste       285.0   NaN   \n",
       "4  Apartamento  Residencial   1.0  Guaratiba  Zona Oeste       245.0   NaN   \n",
       "\n",
       "     valor  \n",
       "0  15000.0  \n",
       "1  15000.0  \n",
       "2  20000.0  \n",
       "3  20000.0  \n",
       "4  15000.0  "
      ]
     },
     "execution_count": 20,
     "metadata": {},
     "output_type": "execute_result"
    }
   ],
   "source": [
    "dados.toPandas().head(5)"
   ]
  },
  {
   "cell_type": "code",
   "execution_count": 35,
   "metadata": {},
   "outputs": [],
   "source": [
    "#coletar apenas o texto dentro da coluna caracteristicas\n",
    "lista = dados.select(f.explode(\"caracteristicas\")).distinct().collect()"
   ]
  },
  {
   "cell_type": "code",
   "execution_count": 37,
   "metadata": {},
   "outputs": [
    {
     "name": "stdout",
     "output_type": "stream",
     "text": [
      "condomínio_fechado\n",
      "playground\n",
      "portão_eletrônico\n",
      "piscina\n",
      "animais_permitidos\n",
      "portaria_24h\n",
      "elevador\n",
      "academia\n",
      "salão_de_festas\n",
      "churrasqueira\n"
     ]
    }
   ],
   "source": [
    "#coletar apenas o texto entre apass da lista\n",
    "for item in lista :\n",
    "    item = item[0].replace(' ', '_').lower()\n",
    "    print(item)"
   ]
  },
  {
   "cell_type": "code",
   "execution_count": null,
   "metadata": {},
   "outputs": [],
   "source": []
  }
 ],
 "metadata": {
  "kernelspec": {
   "display_name": "Python 3",
   "language": "python",
   "name": "python3"
  },
  "language_info": {
   "codemirror_mode": {
    "name": "ipython",
    "version": 3
   },
   "file_extension": ".py",
   "mimetype": "text/x-python",
   "name": "python",
   "nbconvert_exporter": "python",
   "pygments_lexer": "ipython3",
   "version": "3.10.7"
  },
  "orig_nbformat": 4,
  "vscode": {
   "interpreter": {
    "hash": "f42f955e7f8da3c548e302e1e5347a7e875359e0d4da102c4592ccaca30f562a"
   }
  }
 },
 "nbformat": 4,
 "nbformat_minor": 2
}
